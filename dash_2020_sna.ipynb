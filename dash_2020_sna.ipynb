{
 "cells": [
  {
   "cell_type": "markdown",
   "metadata": {},
   "source": [
    "# Introduction to Social Network Analysis with Python\n",
    "## Russell J. Funk\n",
    "\n",
    "This tutorial will walk you through the basics of social network analysis with Python. Although our focus will be on social networks, the tools and techniques we'll use can be used for all sorts of relational data, from citations among documents and co-occurring words to drug-drug interactions. Here's a quick road map with some of the things we'll discuss."
   ]
  },
  {
   "cell_type": "markdown",
   "metadata": {},
   "source": [
    "## Agenda\n",
    "* Why Python?\n",
    "* Package landscape\n",
    "* \"Hello, World!\"\n",
    "* Plotting\n",
    "* Relational data\n",
    "  * Edge lists\n",
    "  * Adjacency matrices\n",
    "  * Affiliation matrices\n",
    "* Generating graphs\n",
    "* On to real data!\n",
    "* Characterizing vertices\n",
    "* Characterizing networks\n",
    "* Next steps"
   ]
  },
  {
   "cell_type": "markdown",
   "metadata": {},
   "source": [
    "## Why Python?\n",
    "\n",
    "People have been using computers to study social networks for a long time, and so there are a lot of different software options available. If you're just getting started with social network analysis (or even if you've been studying networks for a long time), there are a few reasons why I strongly recommend you consider using Python (or adding Python to your toolbox).\n",
    "\n",
    "* __Community.__ Python is one of the most popular programming languages. That means there's a big community of developers who are regularly creating both general purpose and highly specialized packages for network analysis. In addition, there are many people who can help you when you have questions (e.g., via [Stack Overflow](https://stackoverflow.com)).\n",
    "* __Flexibility.__ Because Python is a general-purpose programming language, it's easy to write programs that implement measures or conduct analyses that are not implemented in existing libraries. In addition, as you learn how to do network analysis in Python, you'll also be learning about Python more generally, meaning you'll be able to use the language for all sorts of things beyond social network analysis. "
   ]
  },
  {
   "cell_type": "markdown",
   "metadata": {},
   "source": [
    "## Package landscape\n",
    "\n",
    "Among general purpose network analysis packages, the two most popular are `igraph` and `networkx`, but there are others as well. For this tutorial, we'll be using `networkx`.\n",
    "\n",
    "#### [igraph](https://igraph.org/)\n",
    "* Pros\n",
    "  * Ultra fast; implemented in C\n",
    "  * Has companion libraries in R and C\n",
    "  * Great suite of community detection algorithms\n",
    "* Cons\n",
    "  * Can be difficult to install\n",
    "  * Development has stalled (last major release was in 2015)\n",
    "\n",
    "#### [networkx](https://networkx.github.io/)\n",
    "* Pros\n",
    "  * Large suit of network measures\n",
    "  * Integrates easily with `matplotlib`\n",
    "  * Development is active\n",
    "* Cons\n",
    "  * Slower; implemented in pure Python\n",
    "\n",
    "### Outside Python\n",
    "Notwithstanding its strengths, Python is not the only game in town. If Python is not your go-to tool and you're not interested in learning a new programming language, here are some other resources you may want to consider.\n",
    "\n",
    "#### [R](https://www.r-project.org/)\n",
    "* [statnet](http://www.statnet.org/)\n",
    "  * Tools for the statistical analysis of networks (e.g., ERGMs) \n",
    "* [RSiena](https://www.stats.ox.ac.uk/~snijders/siena/)\n",
    "  * Also focuses on the statistical analysis of networks.\n",
    "* igraph\n",
    "  * The same igraph you know and love from Python, but in R.\n",
    "\n",
    "#### [Pajek](http://mrvar.fdv.uni-lj.si/pajek/)\n",
    "* Slovenian for \"spider,\" Pajek is a popular, GUI based network analysis program for Windows. Primarily used for visualization. \n",
    "\n",
    "#### [UCINET](https://sites.google.com/site/ucinetsoftware/home)\n",
    "* Like Pajek, UCINET is a popular, GUI based network analysis program for Windows, though with less emphasis on visualization and more focus on quantitative analysis. \n",
    "\n",
    "#### [Gephi](https://gephi.org/)\n",
    "* Gephi is a popular, GUI based program for large scale network visualization.\n",
    "\n",
    "#### [Cytoscape](https://cytoscape.org/)\n",
    "* Similar to Gephi, Cytoscape is a popular GUI based program for large scale network visualization. In addition, there is a package available that allows you to use Cytoscape from within Python scripts.\n"
   ]
  },
  {
   "cell_type": "markdown",
   "metadata": {},
   "source": [
    "## \"Hello, World!\"\n",
    "\n",
    "OK, enough throat clearing. Let's start doing some network analysis. We'll start by loading some packages."
   ]
  },
  {
   "cell_type": "code",
   "execution_count": 2,
   "metadata": {},
   "outputs": [],
   "source": [
    "# load networkx\n",
    "from networkx import nx\n",
    "\n",
    "# load matplotlib (for plotting)\n",
    "import matplotlib.pyplot as plt"
   ]
  },
  {
   "cell_type": "markdown",
   "metadata": {},
   "source": [
    "Next, we'll build a simple network."
   ]
  },
  {
   "cell_type": "code",
   "execution_count": 26,
   "metadata": {},
   "outputs": [
    {
     "name": "stdout",
     "output_type": "stream",
     "text": [
      "['Romeo', 'Tybalt', 'Juliet', 'Mercutio', 'Friar Lawrence']\n",
      "[('Romeo', 'Tybalt'), ('Romeo', 'Juliet'), ('Romeo', 'Mercutio'), ('Tybalt', 'Mercutio'), ('Juliet', 'Friar Lawrence')]\n",
      "{'Romeo': {'Tybalt': {}, 'Juliet': {}, 'Mercutio': {}}, 'Tybalt': {'Romeo': {}, 'Mercutio': {}}, 'Juliet': {'Romeo': {}, 'Friar Lawrence': {}}, 'Mercutio': {'Romeo': {}, 'Tybalt': {}}, 'Friar Lawrence': {'Juliet': {}}}\n",
      "[('Romeo', 3), ('Tybalt', 2), ('Juliet', 2), ('Mercutio', 2), ('Friar Lawrence', 1)]\n"
     ]
    }
   ],
   "source": [
    "# initialize the network\n",
    "G = nx.Graph()\n",
    "\n",
    "# add some nodes\n",
    "G.add_node(\"Romeo\")\n",
    "G.add_node(\"Tybalt\")\n",
    "G.add_node(\"Juliet\")\n",
    "G.add_node(\"Mercutio\")\n",
    "G.add_node(\"Friar Lawrence\")\n",
    "\n",
    "# add some edges\n",
    "G.add_edge(\"Romeo\", \"Tybalt\")\n",
    "G.add_edge(\"Romeo\", \"Juliet\")\n",
    "G.add_edge(\"Romeo\", \"Mercutio\")\n",
    "G.add_edge(\"Tybalt\", \"Mercutio\")\n",
    "G.add_edge(\"Juliet\", \"Friar Lawrence\")\n",
    "\n",
    "# check out some of the graph properties\n",
    "print(G.nodes)\n",
    "print(G.edges)\n",
    "print(G.adj)\n",
    "print(G.degree)"
   ]
  },
  {
   "cell_type": "code",
   "execution_count": 27,
   "metadata": {},
   "outputs": [],
   "source": [
    "# we'll typically want to build the network using a more efficient approach\n",
    "\n",
    "# initialize the network (again)\n",
    "G = nx.Graph()\n",
    "\n",
    "# create a list of nodes and add them to the graph\n",
    "node_list = [\"Romeo\", \"Tybalt\", \"Juliet\", \"Mercutio\", \"Friar Lawrence\"]\n",
    "G.add_nodes_from(node_list)\n",
    "    \n",
    "# create a list of edges and add them to the graph\n",
    "edge_list = [(\"Romeo\", \"Tybalt\"), (\"Romeo\", \"Juliet\"), (\"Romeo\", \"Mercutio\"), (\"Tybalt\", \"Mercutio\"), (\"Juliet\", \"Friar Lawrence\")]\n",
    "G.add_edges_from(edge_list)"
   ]
  },
  {
   "cell_type": "markdown",
   "metadata": {},
   "source": [
    "## Plotting\n",
    "\n",
    "So you've now made your first network in `networkx`. Yay! In addition, you've already started looking at some of the basic properties of the network, like lists of nodes and edges. That's great, but if you're like me, to really understand what's going on in a network, you need some kind of visualization. Turns out plotting is really easy with `networkx`."
   ]
  },
  {
   "cell_type": "code",
   "execution_count": 29,
   "metadata": {},
   "outputs": [
    {
     "data": {
      "image/png": "[encoded data removed]",
      "text/plain": [
       "<Figure size 432x288 with 1 Axes>"
      ]
     },
     "metadata": {},
     "output_type": "display_data"
    }
   ],
   "source": [
    "%matplotlib inline\n",
    "\n",
    "# plot our network\n",
    "nx.draw(G, with_labels=True, node_color='#fde725')\n",
    "plt.show()"
   ]
  },
  {
   "cell_type": "markdown",
   "metadata": {},
   "source": [
    "We did it! It's not terribly pretty, but it's ours. We'll learn more about how to clean up our plots a bit later."
   ]
  },
  {
   "cell_type": "markdown",
   "metadata": {},
   "source": [
    "## Relational data\n",
    "\n",
    "### The basics\n",
    "\n",
    "Before we get too far ahead of ourselves, we need to talk a little bit about network data. Typically, you'll see network data represented in one of three formats.\n",
    "\n",
    "* __Adjacency matrices__ represent relational data as an $n\\times n$ matrix, where $n$ is the number of nodes in the network. Each node appears once as a row and once as a column. Cell entries correspond to 0 or 1, indicating whether there is or is not a relationship between node $i$ and node $j$. In the adjacenty matrix below, we see a random selection of characters selected from Romeo and Juliet, with connections appearing if the two characters appears in the same set of (randomly selected) scenes together (listed below).\n",
    "\n",
    "|                | Romeo | Tybalt | Juliet | Mercutio | Friar Lawrence |\n",
    "|----------------|-------|--------|--------|----------|----------------|\n",
    "| Romeo          | 0     | 1      | 1      | 1        | 0              |\n",
    "| Tybalt         | 1     | 0      | 0      | 1        | 0              |\n",
    "| Juliet         | 1     | 0      | 0      | 0        | 1              |\n",
    "| Mercutio       | 1     | 1      | 0      | 0        | 0              |\n",
    "| Friar Lawrence | 0     | 0      | 1      | 0        | 0              |\n",
    "\n",
    "* __Edge lists__ essentially represent relational data in a sparse matrix format. Rather than recording all realized (i.e., 1s) and potential (i.e., 0s) relationships, we're only going to record the ones we observe. This format is really helpful for computational purposes when you have a large network.\n",
    "\n",
    "| a      | b              |\n",
    "|--------|----------------|\n",
    "| Romeo  | Tybalt         |\n",
    "| Romeo  | Juliet         |\n",
    "| Romeo  | Mercutio       |\n",
    "| Tybalt | Mercutio       |\n",
    "| Juliet | Friar Lawrence |\n",
    "\n",
    "* __Affiliation matrices__ are $n\\times m$ matrices used to represent a special kind of network in which we have two kinds of nodes, what we'll call __actors__ ($n$) and __events__ ($m$), with rows indexing the former and columns indexing the latter. \n",
    "\n",
    "|                | A1,S1 | A2,S1  | A1,S2  | A3,S1    | A4,S1          | A5,S1 |\n",
    "|----------------|-------|--------|--------|----------|----------------|-------|\n",
    "| Romeo          | 1     | 1      | 1      | 1        | 0              |  1    |\n",
    "| Tybalt         | 1     | 0      | 0      | 1        | 0              |  0    |\n",
    "| Juliet         | 0     | 0      | 1      | 0        | 1              |  0    |\n",
    "| Mercutio       | 0     | 1      | 0      | 1        | 0              |  0    |\n",
    "| Friar Lawrence | 0     | 0      | 0      | 0        | 1              |  0    |\n",
    "\n",
    "### Augmenting the basics\n",
    "\n",
    "# FINISH (DIRECTION, VERTEX ATTRIBUTES, PROJECTION, HOW TO IN NETWORKX, WEIGHTS)\n"
   ]
  },
  {
   "cell_type": "markdown",
   "metadata": {},
   "source": [
    "## Generating graphs"
   ]
  },
  {
   "cell_type": "markdown",
   "metadata": {},
   "source": [
    "## On to real data!"
   ]
  },
  {
   "cell_type": "markdown",
   "metadata": {},
   "source": [
    "http://www.patentsview.org/api/inventors/query?q={\"_and\":[{\"_gte\":{\"patent_date\":\"2014-01-01\"}},{\"_lt\":{\"patent_date\":\"2014-12-31\"}},{\"location_city\":\"Minneapolis\"},{\"location_state\":\"MN\"}]}&f=[\"patent_number\",\"inventor_id\"]&o={\"per_page\":10000}"
   ]
  },
  {
   "cell_type": "markdown",
   "metadata": {},
   "source": [
    "## Characterizing vertices"
   ]
  },
  {
   "cell_type": "markdown",
   "metadata": {},
   "source": [
    "## Characterizing networks"
   ]
  },
  {
   "cell_type": "markdown",
   "metadata": {},
   "source": [
    "## Next steps"
   ]
  },
  {
   "cell_type": "code",
   "execution_count": null,
   "metadata": {},
   "outputs": [],
   "source": []
  },
  {
   "cell_type": "code",
   "execution_count": null,
   "metadata": {},
   "outputs": [],
   "source": []
  }
 ],
 "metadata": {
  "kernelspec": {
   "display_name": "Python 3",
   "language": "python",
   "name": "python3"
  },
  "language_info": {
   "codemirror_mode": {
    "name": "ipython",
    "version": 3
   },
   "file_extension": ".py",
   "mimetype": "text/x-python",
   "name": "python",
   "nbconvert_exporter": "python",
   "pygments_lexer": "ipython3",
   "version": "3.7.0"
  }
 },
 "nbformat": 4,
 "nbformat_minor": 4
}
